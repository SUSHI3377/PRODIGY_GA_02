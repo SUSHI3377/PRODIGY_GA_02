{
  "nbformat": 4,
  "nbformat_minor": 0,
  "metadata": {
    "colab": {
      "provenance": [],
      "authorship_tag": "ABX9TyOmNo1iJ3pfU3J8ULUtpUoT",
      "include_colab_link": true
    },
    "kernelspec": {
      "name": "python3",
      "display_name": "Python 3"
    },
    "language_info": {
      "name": "python"
    }
  },
  "cells": [
    {
      "cell_type": "markdown",
      "metadata": {
        "id": "view-in-github",
        "colab_type": "text"
      },
      "source": [
        "<a href=\"https://colab.research.google.com/github/SUSHI3377/Prodigy_InfoTech_Tasks/blob/main/Task_2.ipynb\" target=\"_parent\"><img src=\"https://colab.research.google.com/assets/colab-badge.svg\" alt=\"Open In Colab\"/></a>"
      ]
    },
    {
      "cell_type": "code",
      "execution_count": null,
      "metadata": {
        "id": "gN1O6fmi0IGO"
      },
      "outputs": [],
      "source": [
        "# Image Generation with Pre-trained Models in Google Colab\n",
        "\n",
        "# Step 1: Install necessary libraries\n",
        "!pip install diffusers transformers accelerate torch torchvision\n",
        "\n",
        "# Step 2: Import required libraries\n",
        "from diffusers import StableDiffusionPipeline\n",
        "import torch\n",
        "\n",
        "# Step 3: Load the Stable Diffusion model\n",
        "model_id = \"runwayml/stable-diffusion-v1-5\"\n",
        "pipeline = StableDiffusionPipeline.from_pretrained(model_id, torch_dtype=torch.float32)\n",
        "pipeline = pipeline.to(\"cpu\")  # Use CPU since GPU is not available\n",
        "\n",
        "# Step 4: Define a function to generate images from text prompts\n",
        "def generate_image(prompt, output_path):\n",
        "    \"\"\"Generate an image from a text prompt using Stable Diffusion.\"\"\"\n",
        "    print(f\"Generating image for prompt: '{prompt}'...\")\n",
        "    image = pipeline(prompt).images[0]  # Generate the image\n",
        "    image.save(output_path)  # Save the image\n",
        "    print(f\"Image saved to {output_path}\")\n",
        "    return image\n",
        "\n",
        "# Step 5: Input text prompts and generate images\n",
        "if __name__ == \"__main__\":\n",
        "    prompts = [\n",
        "        \"A futuristic cityscape with flying cars and neon lights\",\n",
        "        \"A magical forest with glowing mushrooms and fairies\",\n",
        "        \"A cozy cabin in the mountains during snowfall\"\n",
        "    ]\n",
        "\n",
        "    for i, prompt in enumerate(prompts):\n",
        "        output_file = f\"generated_image_{i+1}.png\"\n",
        "        image = generate_image(prompt, output_file)\n",
        "        display(image)  # Display the image in Colab\n"
      ]
    }
  ]
}